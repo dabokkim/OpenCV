{
 "cells": [
  {
   "cell_type": "markdown",
   "id": "b7ff63a8",
   "metadata": {},
   "source": [
    "# OpenCV 사용 "
   ]
  },
  {
   "cell_type": "markdown",
   "id": "a68fae6a",
   "metadata": {},
   "source": [
    "<li>카메라(웹캠)으로부터 영상을 전달 받아 처리하기 위해서는 VideoCapture클래스를 사용 <br><br>\n",
    "<li>VideoCapture의 전달인자를 0을 쓰면 디폴트 카메라를 사용하게 된다 <br><br>\n",
    "<li>두번째 카메라는1,세번째 카메라는 2를 사용 <br><br>\n",
    "<li>isOpen()메소드는 카메라 영상 캡처 초기화 여부 리턴(카메라가 켜져있는가 여부) <br><br>\n",
    "<li>read()메소드를 호출하여 카메라 이미지(프레임)을 가져올 수 있다. <br><br>\n",
    "<li>2개의 값을 리턴, 1번째는 프레임을 성공적으로 읽었는지, 2번째는 프레임 자체 리턴 <br><br>\n",
    "<li>프레임을 화면에 출력하기 위해서는 cv2.imshow()함수 사용. 1번째 파라미터는 윈도우  창 제목, 두번째 파라미터는 카메라에 전달받을 프레임 <br><br>\n",
    "<li>카메라 사용종료를 위해서는 release()메소드 사용 <br><br>\n",
    "<li>카메라가 아닌 동영상 파일로도 읽어올 수 있다. <br><br>"
   ]
  },
  {
   "cell_type": "code",
   "execution_count": 1,
   "id": "ce4b522a",
   "metadata": {},
   "outputs": [
    {
     "name": "stdout",
     "output_type": "stream",
     "text": [
      "4.5.4\n"
     ]
    }
   ],
   "source": [
    "import cv2\n",
    "print(cv2.__version__)"
   ]
  },
  {
   "cell_type": "code",
   "execution_count": 3,
   "id": "adab9fe5",
   "metadata": {},
   "outputs": [],
   "source": [
    "import cv2\n",
    "cap=cv2.VideoCapture(0)\n",
    "\n",
    "while cap.isOpened() : # 카메라 오픈여부\n",
    "    # 카메라 프레임 읽기\n",
    "    success, frame = cap.read()\n",
    "    if success:\n",
    "        #프레임 출력\n",
    "        cv2.imshow('Camera Window', frame)\n",
    "        \n",
    "        #ESC 키 종료\n",
    "        key = cv2.waitKey(1) & 0xFF\n",
    "        if key == 27: # ESC키의 아스키코드값 : 27\n",
    "            break\n",
    "            \n",
    "cap.release()\n",
    "cv2.destroyAllWindows()"
   ]
  },
  {
   "cell_type": "markdown",
   "id": "fe771be9",
   "metadata": {},
   "source": [
    "## 카메라 영상 저장 "
   ]
  },
  {
   "cell_type": "markdown",
   "id": "01cca6c0",
   "metadata": {},
   "source": [
    "<li> 카메라(웹캠)으로부터 전달받은 영상을 저장하기 위해서는 VideoWriter 클래스를 사용 <br>\n",
    "<li> VideoWriter 클래스의 인스턴스 생성 시 <br>\n",
    "- 1번째 전달인자는 영상을 저장할 파일 지정 <br>\n",
    "- 2번째 전달인자는 영상 포맷 표시 id 지정(fourcc, four character code, 4바이트) <br>\n",
    "- 3번째 전달인자는 프레임 수를 지정 <br>\n",
    "- 4번째 전달인자는 영상 크기인 프레임의 너비와 높이를 튜플로 지정 <br>\n",
    "<li> fourcc는 XVID MPEG-4 코덱을 표시하는 'XVID'를 사용 <br>\n",
    "<li> 실제 프레임 저장은 VideoWriter 클래스의 write() 메소드를 사용 <br>\n",
    "<li> 저장이 모두 끝나면 release() 메소드를 호출하여 파일을 닫는다 <br>"
   ]
  },
  {
   "cell_type": "code",
   "execution_count": 5,
   "id": "595361d0",
   "metadata": {},
   "outputs": [
    {
     "name": "stdout",
     "output_type": "stream",
     "text": [
      "size:0.0 X0.0\n"
     ]
    }
   ],
   "source": [
    "import cv2\n",
    "cap=cv2.VideoCapture(0)\n",
    "\n",
    "width = cap.get(cv2.CAP_PROP_FRAME_WIDTH) # 현재 카메라의 width값(사이즈 값)\n",
    "height = cap.get(cv2.CAP_PROP_FRAME_HEIGHT)\n",
    "\n",
    "fourcc = cv2.VideoWriter_fourcc(*'XVID')\n",
    "writer = cv2.VideoWriter('camtest.avi', fourcc, 24, (int(width), int(height)))\n",
    "\n",
    "while cap.isOpened():\n",
    "    success.frame = cap.read()\n",
    "    if success:\n",
    "        writer.write(frame) # 프레임 저장\n",
    "        cv2.imshow('Video Window', frame)\n",
    "        \n",
    "        #ESC 키 종료\n",
    "        key = cv2.waitKey(1) & 0xFF\n",
    "        if key == ord('q'): # q 값이 들어가면 종료\n",
    "            break\n",
    "\n",
    "cap.release()\n",
    "writer.release()\n",
    "cv2.destroyAllWindows()"
   ]
  },
  {
   "cell_type": "code",
   "execution_count": 1,
   "id": "13d94f31",
   "metadata": {},
   "outputs": [],
   "source": [
    "# OpenCV + matplotlib 활용\n",
    "import cv2\n",
    "from matplotlib import pyplot as plt\n",
    "\n",
    "img = cv2.imread('sea.jpg', 1)\n",
    "img = cv2.cvtColor(img, cv2.COLOR_BGR2RGB)\n",
    "plt.imshow(img)\n",
    "plt.show()"
   ]
  },
  {
   "cell_type": "code",
   "execution_count": null,
   "id": "6adb959a",
   "metadata": {},
   "outputs": [],
   "source": []
  },
  {
   "cell_type": "code",
   "execution_count": null,
   "id": "728515ba",
   "metadata": {},
   "outputs": [],
   "source": []
  },
  {
   "cell_type": "code",
   "execution_count": null,
   "id": "f9dcba0e",
   "metadata": {},
   "outputs": [],
   "source": []
  },
  {
   "cell_type": "code",
   "execution_count": null,
   "id": "76ef7bff",
   "metadata": {},
   "outputs": [],
   "source": []
  },
  {
   "cell_type": "code",
   "execution_count": null,
   "id": "92f3af3c",
   "metadata": {},
   "outputs": [],
   "source": []
  },
  {
   "cell_type": "code",
   "execution_count": null,
   "id": "83a48290",
   "metadata": {},
   "outputs": [],
   "source": []
  },
  {
   "cell_type": "code",
   "execution_count": null,
   "id": "0903b642",
   "metadata": {},
   "outputs": [],
   "source": []
  }
 ],
 "metadata": {
  "kernelspec": {
   "display_name": "Python 3",
   "language": "python",
   "name": "python3"
  },
  "language_info": {
   "codemirror_mode": {
    "name": "ipython",
    "version": 3
   },
   "file_extension": ".py",
   "mimetype": "text/x-python",
   "name": "python",
   "nbconvert_exporter": "python",
   "pygments_lexer": "ipython3",
   "version": "3.8.8"
  }
 },
 "nbformat": 4,
 "nbformat_minor": 5
}
